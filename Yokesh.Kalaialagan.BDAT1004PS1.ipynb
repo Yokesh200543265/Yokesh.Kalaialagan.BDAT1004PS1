{
 "cells": [
  {
   "cell_type": "code",
   "execution_count": 1,
   "id": "8e6bce2b",
   "metadata": {},
   "outputs": [
    {
     "name": "stdout",
     "output_type": "stream",
     "text": [
      "The data type for a is <class 'int'>\n",
      "The data type for b is <class 'float'>\n",
      "True\n",
      "The data type for c is <class 'bool'>\n",
      "The data type for d is <class 'str'>\n",
      "10\n",
      "The data type for e is <class 'int'>\n",
      "55\n",
      "The data type for f is <class 'str'>\n",
      "52\n",
      "The data type for g is <class 'str'>\n",
      "2.5\n",
      "The data type for h is <class 'float'>\n",
      "1\n",
      "The data type for i is <class 'int'>\n",
      "{1, 2, 5}\n",
      "The data type for j is <class 'set'>\n",
      "False\n",
      "The data type for k is <class 'bool'>\n",
      "3.141592653589793\n",
      "The data type for l is <class 'float'>\n"
     ]
    }
   ],
   "source": [
    "#####1 What data type is each of the following (evaluate where necessary)?\n",
    "\n",
    "a = 5 \n",
    "print (\"The data type for a is\",type(a))\n",
    "b = 5.0 \n",
    "print (\"The data type for b is\",type(b))\n",
    "c = 5>1 \n",
    "print (c) #evaluation\n",
    "print (\"The data type for c is\",type(c))\n",
    "d = '5' \n",
    "print (\"The data type for d is\",type(d))\n",
    "e = 5*2\n",
    "print (e)\n",
    "print (\"The data type for e is\",type(e))\n",
    "f = '5'*2\n",
    "print (f)\n",
    "print (\"The data type for f is\",type(f))\n",
    "g = '5'+'2'\n",
    "print (g)\n",
    "print (\"The data type for g is\",type(g))\n",
    "h = 5/2\n",
    "print (h)\n",
    "print (\"The data type for h is\",type(h))\n",
    "i = 5%2\n",
    "print (i)\n",
    "print (\"The data type for i is\",type(i))\n",
    "j = {5,2,1}\n",
    "print (j)\n",
    "print (\"The data type for j is\",type(j))\n",
    "k = 5==3\n",
    "print (k)\n",
    "print (\"The data type for k is\",type(k))\n",
    "import math\n",
    "l = (math.pi)\n",
    "print (l)\n",
    "print (\"The data type for l is\",type(l))\n",
    "\n"
   ]
  },
  {
   "cell_type": "code",
   "execution_count": 2,
   "id": "727db1c8",
   "metadata": {},
   "outputs": [
    {
     "name": "stdout",
     "output_type": "stream",
     "text": [
      "34\n",
      "Yes, the substring 'ice' exists in the txt1 'Supercalifragilisticexpialidocious'.\n",
      "The longest words are ['Supercalifragilisticexpialidocious', 'Bababadalgharaghtakamminarronnkonn']\n",
      "The first composer is Bartok\n",
      "The last composer is Buxtehude\n"
     ]
    }
   ],
   "source": [
    "#2 Write (and evaluate) python expressions that answer these questions:\n",
    "\n",
    "#a)How many letters are there in 'Supercalifragilisticexpialidocious'?\n",
    "txt1 = \"Supercalifragilisticexpialidocious\"\n",
    "print(len(txt1))\n",
    "#b Does 'Supercalifragilisticexpialidocious' contain 'ice' as a substring? \n",
    "substring = 'ice'\n",
    "\n",
    "if substring in txt1:\n",
    "    print(\"Yes, the substring '{}' exists in the txt1 '{}'.\".format(substring, txt1))\n",
    "else:\n",
    "    print(\"No, the substring '{}' does not exist in the txt1 '{}'.\".format(substring, txt1))\n",
    "    \n",
    "#c Which of the following words is the longest:Supercalifragilisticexpialidocious, Honorificabilitudinitatibus, or Bababadalgharaghtakamminarronnkonn?\n",
    "txt1 = \"Supercalifragilisticexpialidocious\"\n",
    "txt2 = \"Honorificabilitudinitatibus\"\n",
    "txt3 = \"Bababadalgharaghtakamminarronnkonn\"\n",
    "words = [txt1,txt2,txt3]\n",
    "length = len(max(words,key = len))\n",
    "longestString = [word for word in words if len(word) == length]\n",
    "print (\"The longest words are\",longestString)\n",
    "\n",
    "#d Which composer comes first in the dictionary: 'Berlioz', 'Borodin', 'Brian','Bartok', 'Bellini', 'Buxtehude', 'Bernstein'. Which one comes last?\n",
    "\n",
    "Dictionary =['Berlioz', 'Borodin', 'Brian','Bartok', 'Bellini', 'Buxtehude', 'Bernstein']\n",
    "print(\"The first composer is\", min(Dictionary))\n",
    "print(\"The last composer is\", max(Dictionary))"
   ]
  },
  {
   "cell_type": "code",
   "execution_count": 3,
   "id": "14ce00cd",
   "metadata": {},
   "outputs": [
    {
     "data": {
      "text/plain": [
       "1.7320508075688772"
      ]
     },
     "execution_count": 3,
     "metadata": {},
     "output_type": "execute_result"
    }
   ],
   "source": [
    "#3 Implement function triangleArea(a,b,c) that takes as input the lengths of the 3 sides of a triangle and returns the area of the triangle. By Heron's formula, the areaof a triangle with side lengths a, b, and c iss(s - a)(s -b)(s -c), wheres = (a+b+c)/2.\n",
    "import math\n",
    "def triangleArea (a,b,c):\n",
    "    s = (a + b + c) / 2\n",
    "    area = math.sqrt(s * (s - a) * (s - b) * (s - c))\n",
    "    return area\n",
    "triangleArea (2,2,2)"
   ]
  },
  {
   "cell_type": "code",
   "execution_count": 5,
   "id": "b32934ce",
   "metadata": {},
   "outputs": [
    {
     "name": "stdout",
     "output_type": "stream",
     "text": [
      "Input the number of elements to be stored in the array: 5\n",
      "element - 0: 26\n",
      "element - 1: 25\n",
      "element - 2: 26\n",
      "element - 3: 29\n",
      "element - 4: 11\n",
      "Odd numbers:  [25, 29, 11]\n",
      "Even numbers:  [26, 26]\n"
     ]
    }
   ],
   "source": [
    "#4\n",
    "N = int(input(\"Input the number of elements to be stored in the array: \"))\n",
    "Array = []\n",
    "for i in range(N):\n",
    "    element = int(input(f\"element - {i}: \"))\n",
    "    Array.append(element)\n",
    "\n",
    "odd_arr = [num for num in Array if num % 2 != 0]\n",
    "even_arr = [num for num in Array if num % 2 == 0]\n",
    "\n",
    "print(\"Odd numbers: \", odd_arr)\n",
    "print(\"Even numbers: \", even_arr)"
   ]
  },
  {
   "cell_type": "code",
   "execution_count": 5,
   "id": "3c75583f",
   "metadata": {},
   "outputs": [
    {
     "name": "stdout",
     "output_type": "stream",
     "text": [
      "True\n",
      "False\n"
     ]
    }
   ],
   "source": [
    "#5a: Write a function inside(x,y,x1,y1,x2,y2) that returns True or False depending on whether the point (x,y) lies in the rectangle with lower left corner (x1,y1) and upper right corner (x2,y2)\n",
    "\n",
    "def inside(x, y, x1, y1, x2, y2):\n",
    "    if x >= x1 and x <= x2 and y >= y1 and y <= y2:\n",
    "        return True\n",
    "    else:\n",
    "        return False\n",
    "\n",
    "print(inside(1, 1, 0, 0, 2, 3))\n",
    "print(inside(-1, -1, 0, 0, 2, 3))"
   ]
  },
  {
   "cell_type": "code",
   "execution_count": 6,
   "id": "78a9558f",
   "metadata": {},
   "outputs": [
    {
     "name": "stdout",
     "output_type": "stream",
     "text": [
      "The point (1,1) does not lie in both rectangles.\n"
     ]
    }
   ],
   "source": [
    "#5b: Use function inside() from part a. to write an expression that tests whether the point (1,1) lies in both of the following rectangles: one with lower left corner (0.3, 0.5) and upper right corner (1.1, 0.7) and the other with lower left corner (0.5, 0.2) and upper right corner (1.1, 2).\n",
    "\n",
    "def inside(x, y, x1, y1, x2, y2):\n",
    "    if x >= x1 and x <= x2 and y >= y1 and y <= y2:\n",
    "        return True\n",
    "    else:\n",
    "        return False\n",
    "\n",
    "rectangle1 = inside(1, 1, 0.3, 0.5, 1.1, 0.7)\n",
    "rectangle2 = inside(1, 1, 0.5, 0.2, 1.1, 2)\n",
    "\n",
    "if rectangle1 and rectangle2:\n",
    "    print(\"The point (1,1) lies in both rectangles.\")\n",
    "else:\n",
    "    print(\"The point (1,1) does not lie in both rectangles.\")"
   ]
  },
  {
   "cell_type": "code",
   "execution_count": 7,
   "id": "df22bb5d",
   "metadata": {},
   "outputs": [
    {
     "name": "stdout",
     "output_type": "stream",
     "text": [
      "Enter a word: happy\n",
      "appyhay\n",
      "Enter a word: enter\n",
      "enterway\n"
     ]
    }
   ],
   "source": [
    "#6: Write a function pig() that takes a word (i.e., a string) as input and returns its pigLatin form. Your function should still work if the input word contains upper case characters. Your output should always be lower case however.\n",
    "\n",
    "def pig():\n",
    "    vowels = \"aeiou\"\n",
    "    word = input(\"Enter a word: \").lower()\n",
    "    if word[0] in vowels:\n",
    "        return word + \"way\"\n",
    "    else:\n",
    "        return word[1:] + word[0] + \"ay\"\n",
    "\n",
    "print(pig())\n",
    "print(pig())\n"
   ]
  },
  {
   "cell_type": "code",
   "execution_count": 11,
   "id": "a705b37e",
   "metadata": {},
   "outputs": [
    {
     "name": "stdout",
     "output_type": "stream",
     "text": [
      "There are 15 patients of bloodtype A\n",
      "There are 1 patients of bloodtype B\n",
      "There are 13 patients of bloodtype AB\n",
      "There are 15 patients of bloodtype O\n",
      "There are 0 patients of bloodtype OO\n"
     ]
    }
   ],
   "source": [
    "#Question 7: File bloodtype1.txt records blood-types of patients (A, B, AB, O or OO) at a clinic. Write a function bldcount() that reads the file with name name and reports (i.e., prints) how many patients there are in each bloodtype.\n",
    "\n",
    "def bldcount(s):\n",
    "    file = open(s)\n",
    "    data = file.read()\n",
    "    bloodtypes = data.strip().split(' ')\n",
    "    valid_bloodtypes = [\"A\", \"B\", \"AB\", \"O\", \"OO\"]\n",
    "    counts = [0,0,0,0,0]\n",
    "    for bloodtype in bloodtypes:\n",
    "        if bloodtype in valid_bloodtypes:\n",
    "            index = valid_bloodtypes.index(bloodtype)\n",
    "            counts[index] = counts[index]+1\n",
    "    for i, bloodtype in enumerate(valid_bloodtypes):\n",
    "        print(\"There are\", counts[i], \"patients of bloodtype\", bloodtype)\n",
    "bldcount(\"bloodtype1.txt\")"
   ]
  },
  {
   "cell_type": "code",
   "execution_count": 13,
   "id": "28f00900",
   "metadata": {},
   "outputs": [
    {
     "name": "stdout",
     "output_type": "stream",
     "text": [
      "Converted amount in USD: 122.96544\n",
      "Converted amount in USD: 1.241401\n"
     ]
    }
   ],
   "source": [
    "#8 Currency Conversion\n",
    "\n",
    "def curConv(Currency, value):\n",
    "    f = open(\"currencies.txt\")\n",
    "    lines = f.readlines()\n",
    "    for line in lines:\n",
    "        s = line.strip().split('\\t')\n",
    "        code = s[0]\n",
    "        convFactor = float(s[1])\n",
    "        name = s[2]\n",
    "        \n",
    "        if Currency == code:\n",
    "            return value * convFactor\n",
    "    \n",
    "print(\"Converted amount in USD:\", curConv('EUR', 100))\n",
    "print(\"Converted amount in USD:\", curConv('JPY', 100))"
   ]
  },
  {
   "cell_type": "code",
   "execution_count": 10,
   "id": "720ec3aa",
   "metadata": {},
   "outputs": [
    {
     "ename": "TypeError",
     "evalue": "unsupported operand type(s) for +: 'int' and 'str'",
     "output_type": "error",
     "traceback": [
      "\u001b[1;31m---------------------------------------------------------------------------\u001b[0m",
      "\u001b[1;31mTypeError\u001b[0m                                 Traceback (most recent call last)",
      "\u001b[1;32m~\\AppData\\Local\\Temp\\ipykernel_16344\\2433561292.py\u001b[0m in \u001b[0;36m<module>\u001b[1;34m\u001b[0m\n\u001b[0;32m      1\u001b[0m \u001b[1;31m#9 a). Trying to add incompatible variables, as in adding 6 + ‘a’\u001b[0m\u001b[1;33m\u001b[0m\u001b[1;33m\u001b[0m\u001b[0m\n\u001b[1;32m----> 2\u001b[1;33m \u001b[0mprint\u001b[0m\u001b[1;33m(\u001b[0m\u001b[1;36m6\u001b[0m \u001b[1;33m+\u001b[0m\u001b[1;34m'a'\u001b[0m\u001b[1;33m)\u001b[0m\u001b[1;33m\u001b[0m\u001b[1;33m\u001b[0m\u001b[0m\n\u001b[0m\u001b[0;32m      3\u001b[0m \u001b[1;31m#9 b). Referring to the 12th item of a list that has only 10 items #Code: A=[1,2,3,4,5,6,7,8,9,0]\u001b[0m\u001b[1;33m\u001b[0m\u001b[1;33m\u001b[0m\u001b[0m\n\u001b[0;32m      4\u001b[0m \u001b[0mprint\u001b[0m\u001b[1;33m(\u001b[0m\u001b[0mA\u001b[0m\u001b[1;33m[\u001b[0m\u001b[1;36m12\u001b[0m\u001b[1;33m]\u001b[0m\u001b[1;33m)\u001b[0m\u001b[1;33m\u001b[0m\u001b[1;33m\u001b[0m\u001b[0m\n\u001b[0;32m      5\u001b[0m \u001b[1;31m#9 c). Using a value that is out of range for a function’s input, such as calling math.sqrt(-1.0) #code: import math\u001b[0m\u001b[1;33m\u001b[0m\u001b[1;33m\u001b[0m\u001b[0m\n",
      "\u001b[1;31mTypeError\u001b[0m: unsupported operand type(s) for +: 'int' and 'str'"
     ]
    }
   ],
   "source": [
    "#9 a). Trying to add incompatible variables, as in adding 6 + ‘a’\n",
    "print(6 +'a')\n",
    "#9 b). Referring to the 12th item of a list that has only 10 items #Code: A=[1,2,3,4,5,6,7,8,9,0]\n",
    "print(A[12])\n",
    "#9 c). Using a value that is out of range for a function’s input, such as calling math.sqrt(-1.0) #code: import math\n",
    "print(math.sqrt(-1.0))\n",
    "#9 d). Using an undeclared variable, such as print(x) when x has not been defined \n",
    "print(x)\n",
    "#9 e). Trying to open a file that does not exist, such as mistyping the file name or looking in the wrong directory.\n",
    "open(\"Textfile.txt\")"
   ]
  },
  {
   "cell_type": "code",
   "execution_count": 11,
   "id": "9574683a",
   "metadata": {},
   "outputs": [
    {
     "name": "stdout",
     "output_type": "stream",
     "text": [
      "[1, 1, 1, 3, 5, 1, 1, 2, 1, 0, 1, 0, 1, 2, 4, 0, 1, 2, 0, 3, 1, 0, 1, 1, 0, 0]\n",
      "[1, 0, 0, 0, 1, 0, 0, 0, 0, 0, 0, 1, 0, 0, 0, 2, 0, 0, 0, 0, 0, 0, 0, 0, 0, 0]\n"
     ]
    }
   ],
   "source": [
    "#10 \n",
    "def frequencies(text):\n",
    "    letters = 'abcdefghijklmnopqrstuvwxyz'\n",
    "    letter_frequencies = [0] * 26\n",
    "    text = text.lower()\n",
    "    for char in text:\n",
    "        if char in letters:\n",
    "            letter_frequencies[letters.index(char)] += 1\n",
    "    return letter_frequencies\n",
    "\n",
    "print(frequencies('The quick red fox got bored and went home.'))\n",
    "print(frequencies('apple'))"
   ]
  },
  {
   "cell_type": "code",
   "execution_count": null,
   "id": "070771d4",
   "metadata": {},
   "outputs": [],
   "source": []
  }
 ],
 "metadata": {
  "kernelspec": {
   "display_name": "Python 3 (ipykernel)",
   "language": "python",
   "name": "python3"
  },
  "language_info": {
   "codemirror_mode": {
    "name": "ipython",
    "version": 3
   },
   "file_extension": ".py",
   "mimetype": "text/x-python",
   "name": "python",
   "nbconvert_exporter": "python",
   "pygments_lexer": "ipython3",
   "version": "3.9.13"
  }
 },
 "nbformat": 4,
 "nbformat_minor": 5
}
